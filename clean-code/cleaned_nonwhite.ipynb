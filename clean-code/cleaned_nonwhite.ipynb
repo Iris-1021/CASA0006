{
 "cells": [
  {
   "cell_type": "code",
   "execution_count": null,
   "id": "dd7122a6-9f65-4f31-9b26-0fa0dc3d4b16",
   "metadata": {},
   "outputs": [
    {
     "name": "stdout",
     "output_type": "stream",
     "text": [
      "Index(['Middle layer Super Output Areas Code',\n",
      "       'Middle layer Super Output Areas', 'Ethnic group (20 categories) Code',\n",
      "       'Ethnic group (20 categories)', 'Observation'],\n",
      "      dtype='object')\n"
     ]
    },
    {
     "data": {
      "text/html": [
       "<div>\n",
       "<style scoped>\n",
       "    .dataframe tbody tr th:only-of-type {\n",
       "        vertical-align: middle;\n",
       "    }\n",
       "\n",
       "    .dataframe tbody tr th {\n",
       "        vertical-align: top;\n",
       "    }\n",
       "\n",
       "    .dataframe thead th {\n",
       "        text-align: right;\n",
       "    }\n",
       "</style>\n",
       "<table border=\"1\" class=\"dataframe\">\n",
       "  <thead>\n",
       "    <tr style=\"text-align: right;\">\n",
       "      <th></th>\n",
       "      <th>Middle layer Super Output Areas Code</th>\n",
       "      <th>Middle layer Super Output Areas</th>\n",
       "      <th>Ethnic group (20 categories) Code</th>\n",
       "      <th>Ethnic group (20 categories)</th>\n",
       "      <th>Observation</th>\n",
       "    </tr>\n",
       "  </thead>\n",
       "  <tbody>\n",
       "    <tr>\n",
       "      <th>0</th>\n",
       "      <td>E02000001</td>\n",
       "      <td>City of London 001</td>\n",
       "      <td>-8</td>\n",
       "      <td>Does not apply</td>\n",
       "      <td>0</td>\n",
       "    </tr>\n",
       "    <tr>\n",
       "      <th>1</th>\n",
       "      <td>E02000001</td>\n",
       "      <td>City of London 001</td>\n",
       "      <td>1</td>\n",
       "      <td>Asian, Asian British or Asian Welsh: Bangladeshi</td>\n",
       "      <td>287</td>\n",
       "    </tr>\n",
       "    <tr>\n",
       "      <th>2</th>\n",
       "      <td>E02000001</td>\n",
       "      <td>City of London 001</td>\n",
       "      <td>2</td>\n",
       "      <td>Asian, Asian British or Asian Welsh: Chinese</td>\n",
       "      <td>545</td>\n",
       "    </tr>\n",
       "    <tr>\n",
       "      <th>3</th>\n",
       "      <td>E02000001</td>\n",
       "      <td>City of London 001</td>\n",
       "      <td>3</td>\n",
       "      <td>Asian, Asian British or Asian Welsh: Indian</td>\n",
       "      <td>321</td>\n",
       "    </tr>\n",
       "    <tr>\n",
       "      <th>4</th>\n",
       "      <td>E02000001</td>\n",
       "      <td>City of London 001</td>\n",
       "      <td>4</td>\n",
       "      <td>Asian, Asian British or Asian Welsh: Pakistani</td>\n",
       "      <td>33</td>\n",
       "    </tr>\n",
       "  </tbody>\n",
       "</table>\n",
       "</div>"
      ],
      "text/plain": [
       "  Middle layer Super Output Areas Code Middle layer Super Output Areas  \\\n",
       "0                            E02000001              City of London 001   \n",
       "1                            E02000001              City of London 001   \n",
       "2                            E02000001              City of London 001   \n",
       "3                            E02000001              City of London 001   \n",
       "4                            E02000001              City of London 001   \n",
       "\n",
       "   Ethnic group (20 categories) Code  \\\n",
       "0                                 -8   \n",
       "1                                  1   \n",
       "2                                  2   \n",
       "3                                  3   \n",
       "4                                  4   \n",
       "\n",
       "                       Ethnic group (20 categories)  Observation  \n",
       "0                                    Does not apply            0  \n",
       "1  Asian, Asian British or Asian Welsh: Bangladeshi          287  \n",
       "2      Asian, Asian British or Asian Welsh: Chinese          545  \n",
       "3       Asian, Asian British or Asian Welsh: Indian          321  \n",
       "4    Asian, Asian British or Asian Welsh: Pakistani           33  "
      ]
     },
     "execution_count": 1,
     "metadata": {},
     "output_type": "execute_result"
    }
   ],
   "source": [
    "import pandas as pd\n",
    "df_ethnicity = pd.read_csv(\"DATA/MSOA-Ethnic group.csv\")\n",
    "df_ethnicity.head()\n"
   ]
  },
  {
   "cell_type": "code",
   "execution_count": null,
   "id": "3c9db6e2-6455-44af-8650-63e6da007198",
   "metadata": {},
   "outputs": [],
   "source": [
    "# rename\n",
    "df_ethnicity = df_ethnicity.rename(columns={\n",
    "    'Middle layer Super Output Areas Code': 'MSOA',\n",
    "    'Ethnic group (20 categories)': 'ethnic_group',\n",
    "    'Observation': 'count'\n",
    "})"
   ]
  },
  {
   "cell_type": "code",
   "execution_count": null,
   "id": "36c4110b-de2c-4101-8306-d162ec2dc2de",
   "metadata": {},
   "outputs": [],
   "source": [
    "# change to numeric\n",
    "df_ethnicity['count'] = pd.to_numeric(df_ethnicity['count'], errors='coerce')\n"
   ]
  },
  {
   "cell_type": "code",
   "execution_count": null,
   "id": "9f28c530-ce51-40a8-9fcd-329975b5eefe",
   "metadata": {},
   "outputs": [],
   "source": [
    "# get the white\n",
    "df_ethnicity['is_white'] = df_ethnicity['ethnic_group'].str.startswith(\"White\", na=False)\n"
   ]
  },
  {
   "cell_type": "code",
   "execution_count": null,
   "id": "cdf47b66-2116-49b3-859e-3d9d728874ec",
   "metadata": {},
   "outputs": [],
   "source": [
    "# count the total pop\n",
    "total = df_ethnicity.groupby('MSOA')['count'].sum()\n"
   ]
  },
  {
   "cell_type": "code",
   "execution_count": null,
   "id": "aea8b6e1-5b36-4beb-a4a4-076aa72e91b4",
   "metadata": {},
   "outputs": [],
   "source": [
    "# count white \n",
    "white = df_ethnicity[df_ethnicity['is_white']].groupby('MSOA')['count'].sum()\n"
   ]
  },
  {
   "cell_type": "code",
   "execution_count": null,
   "id": "65aeffd3-7c96-4782-b895-06fdfd50cf26",
   "metadata": {},
   "outputs": [],
   "source": [
    "# calculate the percent of nonwhite \n",
    "nonwhite_percent = ((total - white) / total * 100).reset_index()\n",
    "nonwhite_percent.columns = ['MSOA', 'nonwhite_percent']"
   ]
  },
  {
   "cell_type": "code",
   "execution_count": null,
   "id": "7f5ade91-8d55-4690-966b-eea4db8a92cd",
   "metadata": {},
   "outputs": [
    {
     "data": {
      "text/html": [
       "<div>\n",
       "<style scoped>\n",
       "    .dataframe tbody tr th:only-of-type {\n",
       "        vertical-align: middle;\n",
       "    }\n",
       "\n",
       "    .dataframe tbody tr th {\n",
       "        vertical-align: top;\n",
       "    }\n",
       "\n",
       "    .dataframe thead th {\n",
       "        text-align: right;\n",
       "    }\n",
       "</style>\n",
       "<table border=\"1\" class=\"dataframe\">\n",
       "  <thead>\n",
       "    <tr style=\"text-align: right;\">\n",
       "      <th></th>\n",
       "      <th>MSOA</th>\n",
       "      <th>nonwhite_percent</th>\n",
       "    </tr>\n",
       "  </thead>\n",
       "  <tbody>\n",
       "    <tr>\n",
       "      <th>0</th>\n",
       "      <td>E02000001</td>\n",
       "      <td>30.626747</td>\n",
       "    </tr>\n",
       "    <tr>\n",
       "      <th>1</th>\n",
       "      <td>E02000002</td>\n",
       "      <td>51.183289</td>\n",
       "    </tr>\n",
       "    <tr>\n",
       "      <th>2</th>\n",
       "      <td>E02000003</td>\n",
       "      <td>59.334373</td>\n",
       "    </tr>\n",
       "    <tr>\n",
       "      <th>3</th>\n",
       "      <td>E02000004</td>\n",
       "      <td>37.142427</td>\n",
       "    </tr>\n",
       "    <tr>\n",
       "      <th>4</th>\n",
       "      <td>E02000005</td>\n",
       "      <td>55.626748</td>\n",
       "    </tr>\n",
       "  </tbody>\n",
       "</table>\n",
       "</div>"
      ],
      "text/plain": [
       "        MSOA  nonwhite_percent\n",
       "0  E02000001         30.626747\n",
       "1  E02000002         51.183289\n",
       "2  E02000003         59.334373\n",
       "3  E02000004         37.142427\n",
       "4  E02000005         55.626748"
      ]
     },
     "execution_count": 8,
     "metadata": {},
     "output_type": "execute_result"
    }
   ],
   "source": [
    "# output\n",
    "nonwhite_percent.head()\n",
    "nonwhite_percent.to_csv(\"cleaned/nonwhite_cleaned.csv\", index=False)"
   ]
  },
  {
   "cell_type": "code",
   "execution_count": null,
   "id": "24722ce5-cc43-4019-818e-62797c297a92",
   "metadata": {},
   "outputs": [],
   "source": []
  }
 ],
 "metadata": {
  "kernelspec": {
   "display_name": "Python (base)",
   "language": "python",
   "name": "base"
  },
  "language_info": {
   "codemirror_mode": {
    "name": "ipython",
    "version": 3
   },
   "file_extension": ".py",
   "mimetype": "text/x-python",
   "name": "python",
   "nbconvert_exporter": "python",
   "pygments_lexer": "ipython3",
   "version": "3.11.9"
  }
 },
 "nbformat": 4,
 "nbformat_minor": 5
}
