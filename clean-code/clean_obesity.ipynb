{
 "cells": [
  {
   "cell_type": "code",
   "execution_count": null,
   "id": "8a1d9a50-2754-4f1a-adb9-c837a36ba664",
   "metadata": {},
   "outputs": [],
   "source": [
    "import pandas as pd\n",
    "import numpy as np\n",
    "obesity_df = pd.read_excel(\"DATA/MSOA_Ward_LA_Obesity.xlsx\", sheet_name=\"2011-12_2013-14\")\n",
    "obesity_df.columns = obesity_df.columns.str.strip()\n",
    "obesity_df.head()\n",
    "\n",
    "obesity_df_skip = pd.read_excel(\"DATA/MSOA_Ward_LA_Obesity.xlsx\", sheet_name=\"2011-12_2013-14\", skiprows=637)\n",
    "obesity_df_skip.columns = obesity_df.columns.str.strip()\n",
    "obesity_df_skip.head()"
   ]
  },
  {
   "cell_type": "code",
   "execution_count": null,
   "id": "dee01f9e-7ac8-4955-802e-26419e15a9b2",
   "metadata": {},
   "outputs": [
    {
     "data": {
      "text/html": [
       "<div>\n",
       "<style scoped>\n",
       "    .dataframe tbody tr th:only-of-type {\n",
       "        vertical-align: middle;\n",
       "    }\n",
       "\n",
       "    .dataframe tbody tr th {\n",
       "        vertical-align: top;\n",
       "    }\n",
       "\n",
       "    .dataframe thead th {\n",
       "        text-align: right;\n",
       "    }\n",
       "</style>\n",
       "<table border=\"1\" class=\"dataframe\">\n",
       "  <thead>\n",
       "    <tr style=\"text-align: right;\">\n",
       "      <th></th>\n",
       "      <th>MSOA</th>\n",
       "      <th>number_measured</th>\n",
       "      <th>number_obese</th>\n",
       "      <th>obesity_rate</th>\n",
       "      <th>check_rate</th>\n",
       "    </tr>\n",
       "  </thead>\n",
       "  <tbody>\n",
       "    <tr>\n",
       "      <th>0</th>\n",
       "      <td>E02000001</td>\n",
       "      <td>56.0</td>\n",
       "      <td>13.0</td>\n",
       "      <td>23.214286</td>\n",
       "      <td>23.214286</td>\n",
       "    </tr>\n",
       "    <tr>\n",
       "      <th>1</th>\n",
       "      <td>E02000002</td>\n",
       "      <td>254.0</td>\n",
       "      <td>61.0</td>\n",
       "      <td>24.015748</td>\n",
       "      <td>24.015748</td>\n",
       "    </tr>\n",
       "    <tr>\n",
       "      <th>2</th>\n",
       "      <td>E02000003</td>\n",
       "      <td>313.0</td>\n",
       "      <td>75.0</td>\n",
       "      <td>23.961661</td>\n",
       "      <td>23.961661</td>\n",
       "    </tr>\n",
       "    <tr>\n",
       "      <th>3</th>\n",
       "      <td>E02000004</td>\n",
       "      <td>138.0</td>\n",
       "      <td>29.0</td>\n",
       "      <td>21.014493</td>\n",
       "      <td>21.014493</td>\n",
       "    </tr>\n",
       "    <tr>\n",
       "      <th>4</th>\n",
       "      <td>E02000005</td>\n",
       "      <td>363.0</td>\n",
       "      <td>88.0</td>\n",
       "      <td>24.242424</td>\n",
       "      <td>24.242424</td>\n",
       "    </tr>\n",
       "  </tbody>\n",
       "</table>\n",
       "</div>"
      ],
      "text/plain": [
       "        MSOA  number_measured  number_obese  obesity_rate  check_rate\n",
       "0  E02000001             56.0          13.0     23.214286   23.214286\n",
       "1  E02000002            254.0          61.0     24.015748   24.015748\n",
       "2  E02000003            313.0          75.0     23.961661   23.961661\n",
       "3  E02000004            138.0          29.0     21.014493   21.014493\n",
       "4  E02000005            363.0          88.0     24.242424   24.242424"
      ]
     },
     "execution_count": 31,
     "metadata": {},
     "output_type": "execute_result"
    }
   ],
   "source": [
    "# select and rename\n",
    "df_obesity_select = obesity_df_skip[['Unnamed: 1', 'Unnamed: 11', 'Unnamed: 12', 'Unnamed: 13']].copy()\n",
    "df_obesity_select.columns = ['MSOA', 'number_measured', 'number_obese', 'obesity_rate']\n",
    "\n",
    "df_obesity_select = df_obesity_select[df_obesity_select['obesity_rate'].notna()]\n",
    "df_obesity_select = df_obesity_select[df_obesity_select['obesity_rate'] != 'NA']\n",
    "\n",
    "# change and clean to numeric\n",
    "df_obesity_select['number_measured'] = pd.to_numeric(df_obesity_select['number_measured'], errors='coerce')\n",
    "df_obesity_select['number_obese'] = pd.to_numeric(df_obesity_select['number_obese'], errors='coerce')\n",
    "df_obesity_select['obesity_rate'] = pd.to_numeric(df_obesity_select['obesity_rate'], errors='coerce') * 100  # 转为百分比\n",
    "\n",
    "df_obesity_select = df_obesity_select.dropna()\n",
    "\n",
    "# check the rate \n",
    "df_obesity_select['check_rate'] = df_obesity_select['number_obese'] / df_obesity_select['number_measured'] * 100\n",
    "\n"
   ]
  },
  {
   "cell_type": "code",
   "execution_count": null,
   "id": "69203746-6ca8-4723-bab2-bc8976781462",
   "metadata": {},
   "outputs": [],
   "source": [
    "# output\n",
    "df_obesity_select.head()\n",
    "df_obesity_output = df_obesity_select.drop(columns=['check_rate'])\n",
    "df_obesity_output.to_csv(\"Cleaned/year6_obesity_cleaned.csv\", index=False)\n"
   ]
  },
  {
   "cell_type": "code",
   "execution_count": null,
   "id": "785c711d-947f-41b6-8db0-4eef99adb42b",
   "metadata": {},
   "outputs": [],
   "source": []
  }
 ],
 "metadata": {
  "kernelspec": {
   "display_name": "Python (base)",
   "language": "python",
   "name": "base"
  },
  "language_info": {
   "codemirror_mode": {
    "name": "ipython",
    "version": 3
   },
   "file_extension": ".py",
   "mimetype": "text/x-python",
   "name": "python",
   "nbconvert_exporter": "python",
   "pygments_lexer": "ipython3",
   "version": "3.11.9"
  }
 },
 "nbformat": 4,
 "nbformat_minor": 5
}
