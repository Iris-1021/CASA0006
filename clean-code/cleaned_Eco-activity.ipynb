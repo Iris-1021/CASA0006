{
 "cells": [
  {
   "cell_type": "code",
   "execution_count": null,
   "id": "1cf2b31a-5764-47c5-8e7e-7228270103ef",
   "metadata": {},
   "outputs": [
    {
     "name": "stdout",
     "output_type": "stream",
     "text": [
      "Index(['Middle layer Super Output Areas Code',\n",
      "       'Middle layer Super Output Areas',\n",
      "       'Economic activity status (20 categories) Code',\n",
      "       'Economic activity status (20 categories)', 'Observation'],\n",
      "      dtype='object')\n"
     ]
    },
    {
     "data": {
      "text/html": [
       "<div>\n",
       "<style scoped>\n",
       "    .dataframe tbody tr th:only-of-type {\n",
       "        vertical-align: middle;\n",
       "    }\n",
       "\n",
       "    .dataframe tbody tr th {\n",
       "        vertical-align: top;\n",
       "    }\n",
       "\n",
       "    .dataframe thead th {\n",
       "        text-align: right;\n",
       "    }\n",
       "</style>\n",
       "<table border=\"1\" class=\"dataframe\">\n",
       "  <thead>\n",
       "    <tr style=\"text-align: right;\">\n",
       "      <th></th>\n",
       "      <th>Middle layer Super Output Areas Code</th>\n",
       "      <th>Middle layer Super Output Areas</th>\n",
       "      <th>Economic activity status (20 categories) Code</th>\n",
       "      <th>Economic activity status (20 categories)</th>\n",
       "      <th>Observation</th>\n",
       "    </tr>\n",
       "  </thead>\n",
       "  <tbody>\n",
       "    <tr>\n",
       "      <th>0</th>\n",
       "      <td>E02000001</td>\n",
       "      <td>City of London 001</td>\n",
       "      <td>-8</td>\n",
       "      <td>Does not apply</td>\n",
       "      <td>579</td>\n",
       "    </tr>\n",
       "    <tr>\n",
       "      <th>1</th>\n",
       "      <td>E02000001</td>\n",
       "      <td>City of London 001</td>\n",
       "      <td>1</td>\n",
       "      <td>Economically active (excluding full-time stude...</td>\n",
       "      <td>440</td>\n",
       "    </tr>\n",
       "    <tr>\n",
       "      <th>2</th>\n",
       "      <td>E02000001</td>\n",
       "      <td>City of London 001</td>\n",
       "      <td>2</td>\n",
       "      <td>Economically active (excluding full-time stude...</td>\n",
       "      <td>3765</td>\n",
       "    </tr>\n",
       "    <tr>\n",
       "      <th>3</th>\n",
       "      <td>E02000001</td>\n",
       "      <td>City of London 001</td>\n",
       "      <td>3</td>\n",
       "      <td>Economically active (excluding full-time stude...</td>\n",
       "      <td>28</td>\n",
       "    </tr>\n",
       "    <tr>\n",
       "      <th>4</th>\n",
       "      <td>E02000001</td>\n",
       "      <td>City of London 001</td>\n",
       "      <td>4</td>\n",
       "      <td>Economically active (excluding full-time stude...</td>\n",
       "      <td>150</td>\n",
       "    </tr>\n",
       "  </tbody>\n",
       "</table>\n",
       "</div>"
      ],
      "text/plain": [
       "  Middle layer Super Output Areas Code Middle layer Super Output Areas  \\\n",
       "0                            E02000001              City of London 001   \n",
       "1                            E02000001              City of London 001   \n",
       "2                            E02000001              City of London 001   \n",
       "3                            E02000001              City of London 001   \n",
       "4                            E02000001              City of London 001   \n",
       "\n",
       "   Economic activity status (20 categories) Code  \\\n",
       "0                                             -8   \n",
       "1                                              1   \n",
       "2                                              2   \n",
       "3                                              3   \n",
       "4                                              4   \n",
       "\n",
       "            Economic activity status (20 categories)  Observation  \n",
       "0                                     Does not apply          579  \n",
       "1  Economically active (excluding full-time stude...          440  \n",
       "2  Economically active (excluding full-time stude...         3765  \n",
       "3  Economically active (excluding full-time stude...           28  \n",
       "4  Economically active (excluding full-time stude...          150  "
      ]
     },
     "execution_count": 1,
     "metadata": {},
     "output_type": "execute_result"
    }
   ],
   "source": [
    "import pandas as pd\n",
    "\n",
    "df_econ = pd.read_csv(\"DATA/MSOA-Economic activity status.csv\")\n",
    "df_econ.head()"
   ]
  },
  {
   "cell_type": "code",
   "execution_count": 2,
   "id": "6f379aff-3905-402b-99d9-1d8c18f3fc97",
   "metadata": {},
   "outputs": [],
   "source": [
    "df_econ = df_econ.rename(columns={\n",
    "    'Middle layer Super Output Areas Code': 'MSOA',\n",
    "    'Economic activity status (20 categories)': 'status',\n",
    "    'Observation': 'count'\n",
    "})"
   ]
  },
  {
   "cell_type": "code",
   "execution_count": null,
   "id": "b3cf865c-23e7-457a-9d4e-7532e7145e5d",
   "metadata": {},
   "outputs": [],
   "source": [
    "# change to numeric\n",
    "df_econ['count'] = pd.to_numeric(df_econ['count'], errors='coerce')\n"
   ]
  },
  {
   "cell_type": "code",
   "execution_count": null,
   "id": "88c3c2e9-3646-442e-bf28-2ccd4d9ea3f6",
   "metadata": {},
   "outputs": [],
   "source": [
    "# divided unemployed or not\n",
    "df_econ['is_unemployed'] = df_econ['status'].str.contains(\"Unemployed\", case=False, na=False)\n"
   ]
  },
  {
   "cell_type": "code",
   "execution_count": null,
   "id": "e1b74436-5cc7-474c-9429-f9438edc0449",
   "metadata": {},
   "outputs": [],
   "source": [
    "# divided econ active or not\n",
    "df_econ['is_econ_active'] = (\n",
    "    df_econ['status'].str.contains(\"Economically active\", case=False, na=False) &\n",
    "    df_econ['status'].str.contains(\"In employment\", case=False, na=False)\n",
    ")\n",
    "df_econ['is_inactive'] = df_econ['status'].str.startswith(\"Economically inactive\", na=False)"
   ]
  },
  {
   "cell_type": "code",
   "execution_count": null,
   "id": "6b28a1dd-c8d3-4dcf-8b68-a8ed372a162f",
   "metadata": {},
   "outputs": [],
   "source": [
    "# the pop of unemploy\n",
    "unemployed = df_econ[df_econ['is_unemployed']].groupby('MSOA')['count'].sum()\n",
    "\n",
    "# the pop of eco active\n",
    "econ_active = df_econ[df_econ['is_econ_active'] | df_econ['is_unemployed']].groupby('MSOA')['count'].sum()\n",
    "\n",
    "# the pop of inactive\n",
    "inactive = df_econ[df_econ['is_inactive']].groupby('MSOA')['count'].sum()\n"
   ]
  },
  {
   "cell_type": "code",
   "execution_count": null,
   "id": "6fe3463a-6517-4154-919e-dff7cc0728d1",
   "metadata": {},
   "outputs": [],
   "source": [
    "# count of total pop\n",
    "total = df_econ.groupby('MSOA')['count'].sum()"
   ]
  },
  {
   "cell_type": "code",
   "execution_count": null,
   "id": "c94a8f89-5be5-4bdd-8457-2268267d3070",
   "metadata": {},
   "outputs": [],
   "source": [
    "# calculate the rate of umemployment and inactive\n",
    "df_result = pd.DataFrame({\n",
    "    'unemployment_rate': (unemployed / econ_active) * 100,\n",
    "    'inactive_rate': (inactive / total) * 100\n",
    "}).reset_index()"
   ]
  },
  {
   "cell_type": "code",
   "execution_count": null,
   "id": "dc7ffe1b-47be-4d29-8543-7fbbb3cdf5a1",
   "metadata": {},
   "outputs": [],
   "source": [
    "# output\n",
    "df_result.to_csv(\"cleaned/unemployment_inactive_cleaned.csv\", index=False)\n"
   ]
  },
  {
   "cell_type": "code",
   "execution_count": null,
   "id": "8e9f7837-e1be-475f-8090-1f666bdf4fe2",
   "metadata": {},
   "outputs": [],
   "source": []
  }
 ],
 "metadata": {
  "kernelspec": {
   "display_name": "Python (base)",
   "language": "python",
   "name": "base"
  },
  "language_info": {
   "codemirror_mode": {
    "name": "ipython",
    "version": 3
   },
   "file_extension": ".py",
   "mimetype": "text/x-python",
   "name": "python",
   "nbconvert_exporter": "python",
   "pygments_lexer": "ipython3",
   "version": "3.11.9"
  }
 },
 "nbformat": 4,
 "nbformat_minor": 5
}
