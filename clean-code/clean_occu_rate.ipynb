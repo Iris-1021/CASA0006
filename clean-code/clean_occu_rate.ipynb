{
 "cells": [
  {
   "cell_type": "code",
   "execution_count": null,
   "id": "4eed8b57-b132-4cae-85ac-c0a58db54894",
   "metadata": {},
   "outputs": [],
   "source": [
    "import pandas as pd\n",
    "pd_excel = pd.ExcelFile(\"DATA/MSOA-Occu-rating.xlsx\")\n",
    "df_occu = pd_excel.parse(\"1b\")  \n",
    "df_occu.head()"
   ]
  },
  {
   "cell_type": "code",
   "execution_count": null,
   "id": "bb41787e-8c10-4c14-9a18-abb7a4242eca",
   "metadata": {},
   "outputs": [
    {
     "data": {
      "text/html": [
       "<div>\n",
       "<style scoped>\n",
       "    .dataframe tbody tr th:only-of-type {\n",
       "        vertical-align: middle;\n",
       "    }\n",
       "\n",
       "    .dataframe tbody tr th {\n",
       "        vertical-align: top;\n",
       "    }\n",
       "\n",
       "    .dataframe thead th {\n",
       "        text-align: right;\n",
       "    }\n",
       "</style>\n",
       "<table border=\"1\" class=\"dataframe\">\n",
       "  <thead>\n",
       "    <tr style=\"text-align: right;\">\n",
       "      <th></th>\n",
       "      <th>MSOA</th>\n",
       "      <th>overcrowded_percent</th>\n",
       "    </tr>\n",
       "  </thead>\n",
       "  <tbody>\n",
       "    <tr>\n",
       "      <th>0</th>\n",
       "      <td>E02000001</td>\n",
       "      <td>4.776423</td>\n",
       "    </tr>\n",
       "    <tr>\n",
       "      <th>1</th>\n",
       "      <td>E02000002</td>\n",
       "      <td>16.376307</td>\n",
       "    </tr>\n",
       "    <tr>\n",
       "      <th>2</th>\n",
       "      <td>E02000003</td>\n",
       "      <td>14.631043</td>\n",
       "    </tr>\n",
       "    <tr>\n",
       "      <th>3</th>\n",
       "      <td>E02000004</td>\n",
       "      <td>8.242950</td>\n",
       "    </tr>\n",
       "    <tr>\n",
       "      <th>4</th>\n",
       "      <td>E02000005</td>\n",
       "      <td>15.702479</td>\n",
       "    </tr>\n",
       "  </tbody>\n",
       "</table>\n",
       "</div>"
      ],
      "text/plain": [
       "        MSOA  overcrowded_percent\n",
       "0  E02000001             4.776423\n",
       "1  E02000002            16.376307\n",
       "2  E02000003            14.631043\n",
       "3  E02000004             8.242950\n",
       "4  E02000005            15.702479"
      ]
     },
     "execution_count": 30,
     "metadata": {},
     "output_type": "execute_result"
    }
   ],
   "source": [
    "# rename\n",
    "df_occu = pd.read_excel(\"DATA/Stress Proxies/MSOA-Occu-rating.xlsx\", sheet_name=\"1b\", skiprows=2)\n",
    "df_occu.columns = ['MSOA', 'MSOA_name', 'under_0', 'equal_0', 'plus_1', 'plus_2']\n",
    "\n",
    "# change to numeric\n",
    "cols_to_numeric = ['under_0', 'equal_0', 'plus_1', 'plus_2']\n",
    "df_occu[cols_to_numeric] = df_occu[cols_to_numeric].apply(pd.to_numeric, errors='coerce')\n",
    "\n",
    "# count total \n",
    "df_occu['total'] = df_occu[cols_to_numeric].sum(axis=1)\n",
    "\n",
    "# calculate the rate of overcrowded\n",
    "df_occu['overcrowded_percent'] = df_occu['under_0'] / df_occu['total'] * 100\n",
    "\n",
    "# output\n",
    "df_overcrowding = df_occu[['MSOA', 'overcrowded_percent']].dropna()\n",
    "df_overcrowding.head()\n",
    "df_overcrowding.to_csv(\"cleaned/overcrowding_cleaned.csv\", index=False)\n"
   ]
  },
  {
   "cell_type": "code",
   "execution_count": null,
   "id": "bfdad37e-586e-49f6-89a7-ec768734e32a",
   "metadata": {},
   "outputs": [],
   "source": [
    "\n"
   ]
  },
  {
   "cell_type": "code",
   "execution_count": null,
   "id": "51cf8ce9-3bfb-460e-8c8d-618b5a14be4f",
   "metadata": {},
   "outputs": [],
   "source": []
  },
  {
   "cell_type": "code",
   "execution_count": null,
   "id": "15efeb77-3004-4bbd-b576-5fb09802dfd4",
   "metadata": {},
   "outputs": [],
   "source": []
  },
  {
   "cell_type": "code",
   "execution_count": null,
   "id": "beccef75-d3e4-4746-b8b1-e21f85d28d8a",
   "metadata": {},
   "outputs": [],
   "source": []
  }
 ],
 "metadata": {
  "kernelspec": {
   "display_name": "Python (base)",
   "language": "python",
   "name": "base"
  },
  "language_info": {
   "codemirror_mode": {
    "name": "ipython",
    "version": 3
   },
   "file_extension": ".py",
   "mimetype": "text/x-python",
   "name": "python",
   "nbconvert_exporter": "python",
   "pygments_lexer": "ipython3",
   "version": "3.11.9"
  }
 },
 "nbformat": 4,
 "nbformat_minor": 5
}
