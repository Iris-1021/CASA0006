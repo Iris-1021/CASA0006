{
 "cells": [
  {
   "cell_type": "code",
   "execution_count": null,
   "id": "032d2ff7-e89f-41f3-bd38-1efbc4246f7e",
   "metadata": {},
   "outputs": [],
   "source": [
    "import pandas as pd\n",
    "df_age = pd.read_csv(\"DATA/MSOA-Age by single year.csv\")\n",
    "df_age.head()"
   ]
  },
  {
   "cell_type": "code",
   "execution_count": null,
   "id": "0b53dc14-9b1c-4501-9900-7c411d609237",
   "metadata": {},
   "outputs": [],
   "source": [
    "# rename\n",
    "df_age = df_age.rename(columns={\n",
    "    'Middle layer Super Output Areas Code': 'MSOA',\n",
    "    'Age (101 categories)': 'age',\n",
    "    'Observation': 'count'\n",
    "})"
   ]
  },
  {
   "cell_type": "code",
   "execution_count": null,
   "id": "fdc5e65c-5407-415f-8d1d-395dcbcd178c",
   "metadata": {},
   "outputs": [
    {
     "data": {
      "text/html": [
       "<div>\n",
       "<style scoped>\n",
       "    .dataframe tbody tr th:only-of-type {\n",
       "        vertical-align: middle;\n",
       "    }\n",
       "\n",
       "    .dataframe tbody tr th {\n",
       "        vertical-align: top;\n",
       "    }\n",
       "\n",
       "    .dataframe thead th {\n",
       "        text-align: right;\n",
       "    }\n",
       "</style>\n",
       "<table border=\"1\" class=\"dataframe\">\n",
       "  <thead>\n",
       "    <tr style=\"text-align: right;\">\n",
       "      <th></th>\n",
       "      <th>MSOA</th>\n",
       "      <th>percent_age_10_11</th>\n",
       "    </tr>\n",
       "  </thead>\n",
       "  <tbody>\n",
       "    <tr>\n",
       "      <th>0</th>\n",
       "      <td>E02000001</td>\n",
       "      <td>1.072386</td>\n",
       "    </tr>\n",
       "    <tr>\n",
       "      <th>1</th>\n",
       "      <td>E02000002</td>\n",
       "      <td>3.924647</td>\n",
       "    </tr>\n",
       "    <tr>\n",
       "      <th>2</th>\n",
       "      <td>E02000003</td>\n",
       "      <td>2.545895</td>\n",
       "    </tr>\n",
       "    <tr>\n",
       "      <th>3</th>\n",
       "      <td>E02000004</td>\n",
       "      <td>2.364102</td>\n",
       "    </tr>\n",
       "    <tr>\n",
       "      <th>4</th>\n",
       "      <td>E02000005</td>\n",
       "      <td>3.400686</td>\n",
       "    </tr>\n",
       "  </tbody>\n",
       "</table>\n",
       "</div>"
      ],
      "text/plain": [
       "        MSOA  percent_age_10_11\n",
       "0  E02000001           1.072386\n",
       "1  E02000002           3.924647\n",
       "2  E02000003           2.545895\n",
       "3  E02000004           2.364102\n",
       "4  E02000005           3.400686"
      ]
     },
     "execution_count": 11,
     "metadata": {},
     "output_type": "execute_result"
    }
   ],
   "source": [
    "# select\"age\"\n",
    "df_age['age_num'] = df_age['age'].str.extract(r'(\\d+)').astype(float)\n",
    "\n",
    "# filter invaild \n",
    "df_age = df_age.dropna(subset=['age_num'])\n",
    "\n",
    "# choose 10-11 \n",
    "target_age = df_age[df_age['age_num'].isin([10, 11])].groupby('MSOA')['count'].sum()\n",
    "\n",
    "# count total pop\n",
    "total_pop = df_age.groupby('MSOA')['count'].sum()\n",
    "\n",
    "# calculate the percent of 10-11\n",
    "df_age_10_11 = pd.DataFrame({\n",
    "    'percent_age_10_11': (target_age / total_pop) * 100\n",
    "}).reset_index()\n",
    "\n",
    "# output\n",
    "df_age_10_11.head()\n",
    "df_age_10_11.to_csv(\"Cleaned/age_10_11_cleaned.csv\", index=False)"
   ]
  },
  {
   "cell_type": "code",
   "execution_count": null,
   "id": "d23fae67-0481-4442-b65e-73fde2def574",
   "metadata": {},
   "outputs": [],
   "source": []
  }
 ],
 "metadata": {
  "kernelspec": {
   "display_name": "Python (base)",
   "language": "python",
   "name": "base"
  },
  "language_info": {
   "codemirror_mode": {
    "name": "ipython",
    "version": 3
   },
   "file_extension": ".py",
   "mimetype": "text/x-python",
   "name": "python",
   "nbconvert_exporter": "python",
   "pygments_lexer": "ipython3",
   "version": "3.11.9"
  }
 },
 "nbformat": 4,
 "nbformat_minor": 5
}
