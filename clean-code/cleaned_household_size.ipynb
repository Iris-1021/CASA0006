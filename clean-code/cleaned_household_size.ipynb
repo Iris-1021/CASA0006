{
 "cells": [
  {
   "cell_type": "code",
   "execution_count": null,
   "id": "aa1b7729-5396-4737-a0de-06ec8f48af29",
   "metadata": {},
   "outputs": [
    {
     "data": {
      "text/html": [
       "<div>\n",
       "<style scoped>\n",
       "    .dataframe tbody tr th:only-of-type {\n",
       "        vertical-align: middle;\n",
       "    }\n",
       "\n",
       "    .dataframe tbody tr th {\n",
       "        vertical-align: top;\n",
       "    }\n",
       "\n",
       "    .dataframe thead th {\n",
       "        text-align: right;\n",
       "    }\n",
       "</style>\n",
       "<table border=\"1\" class=\"dataframe\">\n",
       "  <thead>\n",
       "    <tr style=\"text-align: right;\">\n",
       "      <th></th>\n",
       "      <th>MSOA</th>\n",
       "      <th>average_household_size</th>\n",
       "    </tr>\n",
       "  </thead>\n",
       "  <tbody>\n",
       "    <tr>\n",
       "      <th>0</th>\n",
       "      <td>E02000001</td>\n",
       "      <td>1.702890</td>\n",
       "    </tr>\n",
       "    <tr>\n",
       "      <th>1</th>\n",
       "      <td>E02000002</td>\n",
       "      <td>2.864808</td>\n",
       "    </tr>\n",
       "    <tr>\n",
       "      <th>2</th>\n",
       "      <td>E02000003</td>\n",
       "      <td>2.907888</td>\n",
       "    </tr>\n",
       "    <tr>\n",
       "      <th>3</th>\n",
       "      <td>E02000004</td>\n",
       "      <td>2.794372</td>\n",
       "    </tr>\n",
       "    <tr>\n",
       "      <th>4</th>\n",
       "      <td>E02000005</td>\n",
       "      <td>3.043286</td>\n",
       "    </tr>\n",
       "  </tbody>\n",
       "</table>\n",
       "</div>"
      ],
      "text/plain": [
       "        MSOA  average_household_size\n",
       "0  E02000001                1.702890\n",
       "1  E02000002                2.864808\n",
       "2  E02000003                2.907888\n",
       "3  E02000004                2.794372\n",
       "4  E02000005                3.043286"
      ]
     },
     "execution_count": 4,
     "metadata": {},
     "output_type": "execute_result"
    }
   ],
   "source": [
    "\n",
    "import pandas as pd\n",
    "df_household = pd.read_csv(\"DATA/MSOA-Household size.csv\")\n",
    "df_household.head()\n",
    "\n",
    "# renmae\n",
    "df_household = df_household.rename(columns={\n",
    "    'Middle layer Super Output Areas Code': 'MSOA',\n",
    "    'Household size (9 categories)': 'size',\n",
    "    'Observation': 'count'\n",
    "})\n",
    "\n",
    "# clean “0 people”\n",
    "df_household = df_household[df_household['size'].str.contains(\"0 people\") == False]\n",
    "\n",
    "# get size num\n",
    "df_household['size_num'] = df_household['size'].str.extract(r'(\\d+)').astype(int)\n",
    "\n",
    "# change to numeric\n",
    "df_household['count'] = pd.to_numeric(df_household['count'], errors='coerce')\n",
    "\n",
    "# count total pop = sum(size × count)\n",
    "df_household['total_people'] = df_household['size_num'] * df_household['count']\n",
    "\n",
    "# calculate avg\n",
    "df_avg = df_household.groupby('MSOA').agg({\n",
    "    'count': 'sum',\n",
    "    'total_people': 'sum'\n",
    "}).reset_index()\n",
    "\n",
    "df_avg['average_household_size'] = df_avg['total_people'] / df_avg['count']\n",
    "\n",
    "# output\n",
    "df_avg = df_avg[['MSOA', 'average_household_size']]\n",
    "df_avg.head()\n",
    "df_avg.to_csv(\"cleaned/household_size_cleaned.csv\", index=False)"
   ]
  },
  {
   "cell_type": "code",
   "execution_count": null,
   "id": "1a7ca811-e7ae-41c1-877d-11d80467473d",
   "metadata": {},
   "outputs": [],
   "source": []
  },
  {
   "cell_type": "code",
   "execution_count": null,
   "id": "c551afdb-fe3b-4529-bda7-17ae74542177",
   "metadata": {},
   "outputs": [],
   "source": []
  }
 ],
 "metadata": {
  "kernelspec": {
   "display_name": "Python (base)",
   "language": "python",
   "name": "base"
  },
  "language_info": {
   "codemirror_mode": {
    "name": "ipython",
    "version": 3
   },
   "file_extension": ".py",
   "mimetype": "text/x-python",
   "name": "python",
   "nbconvert_exporter": "python",
   "pygments_lexer": "ipython3",
   "version": "3.11.9"
  }
 },
 "nbformat": 4,
 "nbformat_minor": 5
}
