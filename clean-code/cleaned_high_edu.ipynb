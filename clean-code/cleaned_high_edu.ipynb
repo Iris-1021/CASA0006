{
 "cells": [
  {
   "cell_type": "code",
   "execution_count": null,
   "id": "aca28b3d-1c93-4678-81e1-ad50ad192f61",
   "metadata": {},
   "outputs": [
    {
     "name": "stdout",
     "output_type": "stream",
     "text": [
      "Index(['Middle layer Super Output Areas Code',\n",
      "       'Middle layer Super Output Areas',\n",
      "       'Highest level of qualification (8 categories) Code',\n",
      "       'Highest level of qualification (8 categories)', 'Observation'],\n",
      "      dtype='object')\n"
     ]
    },
    {
     "data": {
      "text/html": [
       "<div>\n",
       "<style scoped>\n",
       "    .dataframe tbody tr th:only-of-type {\n",
       "        vertical-align: middle;\n",
       "    }\n",
       "\n",
       "    .dataframe tbody tr th {\n",
       "        vertical-align: top;\n",
       "    }\n",
       "\n",
       "    .dataframe thead th {\n",
       "        text-align: right;\n",
       "    }\n",
       "</style>\n",
       "<table border=\"1\" class=\"dataframe\">\n",
       "  <thead>\n",
       "    <tr style=\"text-align: right;\">\n",
       "      <th></th>\n",
       "      <th>Middle layer Super Output Areas Code</th>\n",
       "      <th>Middle layer Super Output Areas</th>\n",
       "      <th>Highest level of qualification (8 categories) Code</th>\n",
       "      <th>Highest level of qualification (8 categories)</th>\n",
       "      <th>Observation</th>\n",
       "    </tr>\n",
       "  </thead>\n",
       "  <tbody>\n",
       "    <tr>\n",
       "      <th>0</th>\n",
       "      <td>E02000001</td>\n",
       "      <td>City of London 001</td>\n",
       "      <td>-8</td>\n",
       "      <td>Does not apply</td>\n",
       "      <td>579</td>\n",
       "    </tr>\n",
       "    <tr>\n",
       "      <th>1</th>\n",
       "      <td>E02000001</td>\n",
       "      <td>City of London 001</td>\n",
       "      <td>0</td>\n",
       "      <td>No qualifications</td>\n",
       "      <td>529</td>\n",
       "    </tr>\n",
       "    <tr>\n",
       "      <th>2</th>\n",
       "      <td>E02000001</td>\n",
       "      <td>City of London 001</td>\n",
       "      <td>1</td>\n",
       "      <td>Level 1 and entry level qualifications: 1 to 4...</td>\n",
       "      <td>223</td>\n",
       "    </tr>\n",
       "    <tr>\n",
       "      <th>3</th>\n",
       "      <td>E02000001</td>\n",
       "      <td>City of London 001</td>\n",
       "      <td>2</td>\n",
       "      <td>Level 2 qualifications: 5 or more GCSEs (A* to...</td>\n",
       "      <td>392</td>\n",
       "    </tr>\n",
       "    <tr>\n",
       "      <th>4</th>\n",
       "      <td>E02000001</td>\n",
       "      <td>City of London 001</td>\n",
       "      <td>3</td>\n",
       "      <td>Apprenticeship</td>\n",
       "      <td>80</td>\n",
       "    </tr>\n",
       "  </tbody>\n",
       "</table>\n",
       "</div>"
      ],
      "text/plain": [
       "  Middle layer Super Output Areas Code Middle layer Super Output Areas  \\\n",
       "0                            E02000001              City of London 001   \n",
       "1                            E02000001              City of London 001   \n",
       "2                            E02000001              City of London 001   \n",
       "3                            E02000001              City of London 001   \n",
       "4                            E02000001              City of London 001   \n",
       "\n",
       "   Highest level of qualification (8 categories) Code  \\\n",
       "0                                                 -8    \n",
       "1                                                  0    \n",
       "2                                                  1    \n",
       "3                                                  2    \n",
       "4                                                  3    \n",
       "\n",
       "       Highest level of qualification (8 categories)  Observation  \n",
       "0                                     Does not apply          579  \n",
       "1                                  No qualifications          529  \n",
       "2  Level 1 and entry level qualifications: 1 to 4...          223  \n",
       "3  Level 2 qualifications: 5 or more GCSEs (A* to...          392  \n",
       "4                                     Apprenticeship           80  "
      ]
     },
     "execution_count": 10,
     "metadata": {},
     "output_type": "execute_result"
    }
   ],
   "source": [
    "import pandas as pd\n",
    "df_edu = pd.read_csv(\"DATA/MSOA-Highest level of qualification.csv\")\n",
    "df_edu.head()"
   ]
  },
  {
   "cell_type": "code",
   "execution_count": null,
   "id": "8201e52a-4f5c-48db-90c8-aa0d19fe6b62",
   "metadata": {},
   "outputs": [],
   "source": [
    "# rename\n",
    "df_edu = df_edu.rename(columns={\n",
    "    'Middle layer Super Output Areas Code': 'MSOA',\n",
    "    'Highest level of qualification (8 categories)': 'qualification',\n",
    "    'Observation': 'count'\n",
    "})"
   ]
  },
  {
   "cell_type": "code",
   "execution_count": null,
   "id": "0c18d7a8-6778-4982-89c5-35d40d96922c",
   "metadata": {},
   "outputs": [],
   "source": [
    "# change to numeric \n",
    "df_edu['count'] = pd.to_numeric(df_edu['count'], errors='coerce')\n"
   ]
  },
  {
   "cell_type": "code",
   "execution_count": null,
   "id": "8669c8c1-cdc7-4c12-bf61-46a1c8371cf9",
   "metadata": {},
   "outputs": [],
   "source": [
    "# exclude \"Does not apply\"\n",
    "valid_rows = df_edu[df_edu['qualification'] != 'Does not apply']\n",
    "\n",
    "# count the number of high edu\n",
    "high_edu_label = 'Level 4 qualifications or above: degree (BA, BSc), higher degree (MA, PhD, PGCE), NVQ level 4 to 5, HNC, HND, RSA Higher Diploma, BTEC Higher level, professional qualifications (for example, teaching, nursing, accountancy)'\n",
    "high_edu = valid_rows[valid_rows['qualification'] == high_edu_label].groupby('MSOA')['count'].sum()\n"
   ]
  },
  {
   "cell_type": "code",
   "execution_count": null,
   "id": "ae64683c-ba29-429b-820b-8de73cc85b9d",
   "metadata": {},
   "outputs": [],
   "source": [
    "# count total edu(excludedoes not apply)\n",
    "total = valid_rows.groupby('MSOA')['count'].sum()\n"
   ]
  },
  {
   "cell_type": "code",
   "execution_count": null,
   "id": "184c41e6-aff2-4c3d-8c9d-5d907ed56143",
   "metadata": {},
   "outputs": [],
   "source": [
    "# calculate the percent of high edu\n",
    "df_edu_clean = pd.DataFrame({\n",
    "    'higher_education_percent': (high_edu / total) * 100\n",
    "}).reset_index()\n"
   ]
  },
  {
   "cell_type": "code",
   "execution_count": null,
   "id": "ad09920d-f969-429c-90e1-95c916f18811",
   "metadata": {},
   "outputs": [
    {
     "data": {
      "text/html": [
       "<div>\n",
       "<style scoped>\n",
       "    .dataframe tbody tr th:only-of-type {\n",
       "        vertical-align: middle;\n",
       "    }\n",
       "\n",
       "    .dataframe tbody tr th {\n",
       "        vertical-align: top;\n",
       "    }\n",
       "\n",
       "    .dataframe thead th {\n",
       "        text-align: right;\n",
       "    }\n",
       "</style>\n",
       "<table border=\"1\" class=\"dataframe\">\n",
       "  <thead>\n",
       "    <tr style=\"text-align: right;\">\n",
       "      <th></th>\n",
       "      <th>MSOA</th>\n",
       "      <th>higher_education_percent</th>\n",
       "    </tr>\n",
       "  </thead>\n",
       "  <tbody>\n",
       "    <tr>\n",
       "      <th>0</th>\n",
       "      <td>E02000001</td>\n",
       "      <td>74.181864</td>\n",
       "    </tr>\n",
       "    <tr>\n",
       "      <th>1</th>\n",
       "      <td>E02000002</td>\n",
       "      <td>30.910610</td>\n",
       "    </tr>\n",
       "    <tr>\n",
       "      <th>2</th>\n",
       "      <td>E02000003</td>\n",
       "      <td>34.015143</td>\n",
       "    </tr>\n",
       "    <tr>\n",
       "      <th>3</th>\n",
       "      <td>E02000004</td>\n",
       "      <td>30.743180</td>\n",
       "    </tr>\n",
       "    <tr>\n",
       "      <th>4</th>\n",
       "      <td>E02000005</td>\n",
       "      <td>33.783953</td>\n",
       "    </tr>\n",
       "  </tbody>\n",
       "</table>\n",
       "</div>"
      ],
      "text/plain": [
       "        MSOA  higher_education_percent\n",
       "0  E02000001                 74.181864\n",
       "1  E02000002                 30.910610\n",
       "2  E02000003                 34.015143\n",
       "3  E02000004                 30.743180\n",
       "4  E02000005                 33.783953"
      ]
     },
     "execution_count": 16,
     "metadata": {},
     "output_type": "execute_result"
    }
   ],
   "source": [
    "# output\n",
    "df_edu_clean.head()\n",
    "df_edu_clean.to_csv(\"cleaned/higher_edu_cleaned.csv\", index=False)"
   ]
  },
  {
   "cell_type": "code",
   "execution_count": null,
   "id": "2a0bd8cb-bdf1-4172-92f3-af1075c49d2c",
   "metadata": {},
   "outputs": [],
   "source": []
  },
  {
   "cell_type": "code",
   "execution_count": null,
   "id": "06213b53-f9f4-40fb-a1b3-293ae301d7d2",
   "metadata": {},
   "outputs": [],
   "source": []
  }
 ],
 "metadata": {
  "kernelspec": {
   "display_name": "Python (base)",
   "language": "python",
   "name": "base"
  },
  "language_info": {
   "codemirror_mode": {
    "name": "ipython",
    "version": 3
   },
   "file_extension": ".py",
   "mimetype": "text/x-python",
   "name": "python",
   "nbconvert_exporter": "python",
   "pygments_lexer": "ipython3",
   "version": "3.11.9"
  }
 },
 "nbformat": 4,
 "nbformat_minor": 5
}
